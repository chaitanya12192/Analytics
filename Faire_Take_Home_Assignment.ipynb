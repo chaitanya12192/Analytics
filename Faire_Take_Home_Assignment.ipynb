{
 "cells": [
  {
   "cell_type": "markdown",
   "metadata": {},
   "source": [
    "**Faire - Take home Assignment**"
   ]
  },
  {
   "cell_type": "code",
   "execution_count": 1,
   "metadata": {},
   "outputs": [],
   "source": [
    "# Import libraries\n",
    "import pandas as pd\n",
    "import gspread\n",
    "import os\n",
    "import matplotlib.pyplot as plt\n",
    "from google.cloud import bigquery # Imports the Google Cloud Client Library\n",
    "from oauth2client.service_account import ServiceAccountCredentials\n",
    "from df2gspread import df2gspread as d2g"
   ]
  },
  {
   "cell_type": "code",
   "execution_count": 2,
   "metadata": {},
   "outputs": [],
   "source": [
    "os.environ['GOOGLE_APPLICATION_CREDENTIALS'] ='/Users/chaitanyapaga/Desktop/BQ-jupyter/analytics-bq.json'"
   ]
  },
  {
   "cell_type": "code",
   "execution_count": 3,
   "metadata": {},
   "outputs": [],
   "source": [
    "# Initiates a client for Bigquery service\n",
    "bigquery_client = bigquery.Client(project='analytics-projects-dec-2019')"
   ]
  },
  {
   "cell_type": "code",
   "execution_count": 22,
   "metadata": {},
   "outputs": [],
   "source": [
    "# Configure the connection to google sheets\n",
    "##scope = ['https://spreadsheets.google.com/feeds']\n",
    "scope = ['https://www.googleapis.com/auth/spreadsheets']\n",
    "# Path to the Service Account Credential json file \n",
    "credentials = ServiceAccountCredentials.from_json_keyfile_name('./analytics-bq.json',\n",
    "                                                               scope\n",
    "                                                              )\n",
    "# Authorizing my Notebook\n",
    "gc = gspread.authorize(credentials)\n",
    "\n",
    "# The spreadsheet ID\n",
    "spreadsheet_key = '1HtL3Tt33Hx1JXGerzQtaBKOekODnKAF-a25ade_-aAA'"
   ]
  },
  {
   "cell_type": "code",
   "execution_count": 8,
   "metadata": {},
   "outputs": [],
   "source": [
    "# Query from bigquery\n",
    "Query = \"\"\"select * \n",
    "from `analytics-projects-dec-2019.Faire.faire_dataset`\n",
    "limit 10\n",
    "\"\"\""
   ]
  },
  {
   "cell_type": "code",
   "execution_count": 9,
   "metadata": {},
   "outputs": [],
   "source": [
    "# Run the query and get data from Bigquery\n",
    "query_job = bigquery_client.query(Query)"
   ]
  },
  {
   "cell_type": "code",
   "execution_count": 10,
   "metadata": {},
   "outputs": [],
   "source": [
    "# Convert the data in panda dataframe\n",
    "df = query_job.to_dataframe()"
   ]
  },
  {
   "cell_type": "code",
   "execution_count": 11,
   "metadata": {},
   "outputs": [],
   "source": [
    "# Analyze the data"
   ]
  },
  {
   "cell_type": "code",
   "execution_count": 12,
   "metadata": {},
   "outputs": [
    {
     "data": {
      "text/plain": [
       "(10, 21)"
      ]
     },
     "execution_count": 12,
     "metadata": {},
     "output_type": "execute_result"
    }
   ],
   "source": [
    "# checking number of rows and columns \n",
    "df.shape"
   ]
  },
  {
   "cell_type": "code",
   "execution_count": 13,
   "metadata": {},
   "outputs": [
    {
     "data": {
      "text/plain": [
       "brand_id                                                  int64\n",
       "retailer_id                                               int64\n",
       "brand_relationship_id                                     int64\n",
       "brand_relationship_created_at               datetime64[ns, UTC]\n",
       "brand_relationship_confirmed_at             datetime64[ns, UTC]\n",
       "confirmation_reason                                      object\n",
       "normalized_referer                                       object\n",
       "outgoing_email_id                                       float64\n",
       "email_sent_at                               datetime64[ns, UTC]\n",
       "brand_relationship_order_id                              object\n",
       "retailer_signed_up_at                       datetime64[ns, UTC]\n",
       "retailer_placed_first_order_at              datetime64[ns, UTC]\n",
       "retailer_placed_first_confirmed_order_at    datetime64[ns, UTC]\n",
       "power_retailer_converted_at                              object\n",
       "retailer_gmv                                            float64\n",
       "retailer_business_type                                   object\n",
       "brand_stockist_count                                    float64\n",
       "brand_first_active_at                       datetime64[ns, UTC]\n",
       "brand_adopted_elevate_at                    datetime64[ns, UTC]\n",
       "power_maker_converted_at                    datetime64[ns, UTC]\n",
       "account_owner                                            object\n",
       "dtype: object"
      ]
     },
     "execution_count": 13,
     "metadata": {},
     "output_type": "execute_result"
    }
   ],
   "source": [
    "# checking colume datatypes\n",
    "df.dtypes"
   ]
  },
  {
   "cell_type": "code",
   "execution_count": 23,
   "metadata": {},
   "outputs": [
    {
     "name": "stdout",
     "output_type": "stream",
     "text": [
      "The sheet is updated successfully\n"
     ]
    }
   ],
   "source": [
    "# Setting the sheet name and the start cell where the upload data begins \n",
    "wks_name = 'test'\n",
    "cell_of_start_df = 'A2'\n",
    "# uploading the dataframe to sheets\n",
    "d2g.upload(df,\n",
    "           spreadsheet_key,\n",
    "           wks_name,\n",
    "           credentials=credentials,\n",
    "           col_names=False,\n",
    "           row_names=False,\n",
    "           start_cell = cell_of_start_df,\n",
    "           clean=False)\n",
    "print ('The sheet is updated successfully')"
   ]
  },
  {
   "cell_type": "code",
   "execution_count": null,
   "metadata": {},
   "outputs": [],
   "source": []
  }
 ],
 "metadata": {
  "kernelspec": {
   "display_name": "Python 3",
   "language": "python",
   "name": "python3"
  },
  "language_info": {
   "codemirror_mode": {
    "name": "ipython",
    "version": 3
   },
   "file_extension": ".py",
   "mimetype": "text/x-python",
   "name": "python",
   "nbconvert_exporter": "python",
   "pygments_lexer": "ipython3",
   "version": "3.8.0"
  }
 },
 "nbformat": 4,
 "nbformat_minor": 2
}
