{
 "cells": [
  {
   "cell_type": "markdown",
   "metadata": {},
   "source": [
    "**Faire - Take home Assignment**"
   ]
  },
  {
   "cell_type": "code",
   "execution_count": 24,
   "metadata": {},
   "outputs": [],
   "source": [
    "# Import libraries\n",
    "import pandas as pd\n",
    "import gspread\n",
    "import os\n",
    "import matplotlib.pyplot as plt\n",
    "from google.cloud import bigquery # Imports the Google Cloud Client Library\n",
    "from oauth2client.service_account import ServiceAccountCredentials\n",
    "from df2gspread import df2gspread as d2g"
   ]
  },
  {
   "cell_type": "code",
   "execution_count": 25,
   "metadata": {},
   "outputs": [],
   "source": [
    "os.environ['GOOGLE_APPLICATION_CREDENTIALS'] ='/Users/chaitanyapaga/Desktop/BQ-jupyter/analytics-bq.json'"
   ]
  },
  {
   "cell_type": "code",
   "execution_count": 26,
   "metadata": {},
   "outputs": [],
   "source": [
    "# Initiates a client for Bigquery service\n",
    "bigquery_client = bigquery.Client(project='analytics-projects-dec-2019')"
   ]
  },
  {
   "cell_type": "code",
   "execution_count": 27,
   "metadata": {},
   "outputs": [],
   "source": [
    "# Configure the connection to google sheets\n",
    "##scope = ['https://spreadsheets.google.com/feeds']\n",
    "scope = ['https://www.googleapis.com/auth/spreadsheets']\n",
    "# Path to the Service Account Credential json file \n",
    "credentials = ServiceAccountCredentials.from_json_keyfile_name('./analytics-bq.json',\n",
    "                                                               scope\n",
    "                                                              )\n",
    "# Authorizing my Notebook\n",
    "gc = gspread.authorize(credentials)\n",
    "\n",
    "# The spreadsheet ID\n",
    "spreadsheet_key = '1HtL3Tt33Hx1JXGerzQtaBKOekODnKAF-a25ade_-aAA'"
   ]
  },
  {
   "cell_type": "code",
   "execution_count": 28,
   "metadata": {},
   "outputs": [],
   "source": [
    "# Query from bigquery (entire dataset)\n",
    "Query = \"\"\"select * \n",
    "from `analytics-projects-dec-2019.Faire.faire_dataset`\n",
    "\"\"\""
   ]
  },
  {
   "cell_type": "code",
   "execution_count": 29,
   "metadata": {},
   "outputs": [],
   "source": [
    "# Running the query to get data from Bigquery\n",
    "query_job = bigquery_client.query(Query)"
   ]
  },
  {
   "cell_type": "code",
   "execution_count": 30,
   "metadata": {},
   "outputs": [],
   "source": [
    "# Converting the data in panda dataframe\n",
    "df = query_job.to_dataframe()"
   ]
  },
  {
   "cell_type": "code",
   "execution_count": 31,
   "metadata": {},
   "outputs": [],
   "source": [
    "# Analyze the data"
   ]
  },
  {
   "cell_type": "code",
   "execution_count": 32,
   "metadata": {},
   "outputs": [
    {
     "data": {
      "text/plain": [
       "(218538, 21)"
      ]
     },
     "execution_count": 32,
     "metadata": {},
     "output_type": "execute_result"
    }
   ],
   "source": [
    "# checking number of rows and columns \n",
    "df.shape"
   ]
  },
  {
   "cell_type": "code",
   "execution_count": 33,
   "metadata": {},
   "outputs": [
    {
     "data": {
      "text/plain": [
       "brand_id                                                  int64\n",
       "retailer_id                                              object\n",
       "brand_relationship_id                                     int64\n",
       "brand_relationship_created_at               datetime64[ns, UTC]\n",
       "brand_relationship_confirmed_at                          object\n",
       "confirmation_reason                                      object\n",
       "normalized_referer                                       object\n",
       "outgoing_email_id                                       float64\n",
       "email_sent_at                               datetime64[ns, UTC]\n",
       "brand_relationship_order_id                              object\n",
       "retailer_signed_up_at                                    object\n",
       "retailer_placed_first_order_at                           object\n",
       "retailer_placed_first_confirmed_order_at                 object\n",
       "power_retailer_converted_at                              object\n",
       "retailer_gmv                                             object\n",
       "retailer_business_type                                   object\n",
       "brand_stockist_count                                    float64\n",
       "brand_first_active_at                       datetime64[ns, UTC]\n",
       "brand_adopted_elevate_at                    datetime64[ns, UTC]\n",
       "power_maker_converted_at                    datetime64[ns, UTC]\n",
       "account_owner                                            object\n",
       "dtype: object"
      ]
     },
     "execution_count": 33,
     "metadata": {},
     "output_type": "execute_result"
    }
   ],
   "source": [
    "# checking colume datatypes\n",
    "df.dtypes"
   ]
  },
  {
   "cell_type": "code",
   "execution_count": 34,
   "metadata": {},
   "outputs": [
    {
     "name": "stdout",
     "output_type": "stream",
     "text": [
      "<class 'pandas.core.frame.DataFrame'>\n",
      "RangeIndex: 218538 entries, 0 to 218537\n",
      "Data columns (total 21 columns):\n",
      "brand_id                                    218538 non-null int64\n",
      "retailer_id                                 32925 non-null object\n",
      "brand_relationship_id                       218538 non-null int64\n",
      "brand_relationship_created_at               218538 non-null datetime64[ns, UTC]\n",
      "brand_relationship_confirmed_at             32924 non-null object\n",
      "confirmation_reason                         32924 non-null object\n",
      "normalized_referer                          18418 non-null object\n",
      "outgoing_email_id                           59158 non-null float64\n",
      "email_sent_at                               59158 non-null datetime64[ns, UTC]\n",
      "brand_relationship_order_id                 420 non-null object\n",
      "retailer_signed_up_at                       32925 non-null object\n",
      "retailer_placed_first_order_at              16370 non-null object\n",
      "retailer_placed_first_confirmed_order_at    14004 non-null object\n",
      "power_retailer_converted_at                 3371 non-null object\n",
      "retailer_gmv                                32925 non-null object\n",
      "retailer_business_type                      32883 non-null object\n",
      "brand_stockist_count                        122084 non-null float64\n",
      "brand_first_active_at                       218527 non-null datetime64[ns, UTC]\n",
      "brand_adopted_elevate_at                    217299 non-null datetime64[ns, UTC]\n",
      "power_maker_converted_at                    151247 non-null datetime64[ns, UTC]\n",
      "account_owner                               218538 non-null object\n",
      "dtypes: datetime64[ns, UTC](5), float64(2), int64(2), object(12)\n",
      "memory usage: 35.0+ MB\n"
     ]
    }
   ],
   "source": [
    "# checking info on each column\n",
    "df.info()"
   ]
  },
  {
   "cell_type": "code",
   "execution_count": 35,
   "metadata": {},
   "outputs": [
    {
     "data": {
      "text/plain": [
       "0         False\n",
       "1         False\n",
       "2         False\n",
       "3         False\n",
       "4         False\n",
       "          ...  \n",
       "218533    False\n",
       "218534    False\n",
       "218535    False\n",
       "218536    False\n",
       "218537    False\n",
       "Length: 218538, dtype: bool"
      ]
     },
     "execution_count": 35,
     "metadata": {},
     "output_type": "execute_result"
    }
   ],
   "source": [
    "# check for duplicates\n",
    "df.duplicated()"
   ]
  },
  {
   "cell_type": "code",
   "execution_count": 36,
   "metadata": {},
   "outputs": [
    {
     "data": {
      "text/plain": [
       "8929     14732\n",
       "11582     8964\n",
       "19643     8086\n",
       "6913      5404\n",
       "4106      4975\n",
       "         ...  \n",
       "28344        1\n",
       "45347        1\n",
       "2997         1\n",
       "16308        1\n",
       "5437         1\n",
       "Name: brand_id, Length: 2560, dtype: int64"
      ]
     },
     "execution_count": 36,
     "metadata": {},
     "output_type": "execute_result"
    }
   ],
   "source": [
    "# number of rows per brand_id\n",
    "df['brand_id'].value_counts()"
   ]
  },
  {
   "cell_type": "code",
   "execution_count": 37,
   "metadata": {},
   "outputs": [
    {
     "data": {
      "text/plain": [
       "91992.0     2\n",
       "59056.0     2\n",
       "115468.0    2\n",
       "100690.0    2\n",
       "112829.0    2\n",
       "           ..\n",
       "113554.0    1\n",
       "113555.0    1\n",
       "121704.0    1\n",
       "113559.0    1\n",
       "131072.0    1\n",
       "Name: retailer_id, Length: 32873, dtype: int64"
      ]
     },
     "execution_count": 37,
     "metadata": {},
     "output_type": "execute_result"
    }
   ],
   "source": [
    "# of rows per retailer_id\n",
    "df['retailer_id'].value_counts()"
   ]
  },
  {
   "cell_type": "code",
   "execution_count": 38,
   "metadata": {},
   "outputs": [
    {
     "data": {
      "text/plain": [
       "<matplotlib.axes._subplots.AxesSubplot at 0x118d85730>"
      ]
     },
     "execution_count": 38,
     "metadata": {},
     "output_type": "execute_result"
    },
    {
     "data": {
      "image/png": "[encoded data removed]",
      "text/plain": [
       "<Figure size 432x288 with 1 Axes>"
      ]
     },
     "metadata": {
      "needs_background": "light"
     },
     "output_type": "display_data"
    }
   ],
   "source": [
    "# top 10 brands\n",
    "top10 = df[\"brand_id\"].value_counts()\n",
    "top10.sort_values(ascending=False)\n",
    "top10 = top10[:10]\n",
    "top10.plot(kind=\"bar\")"
   ]
  },
  {
   "cell_type": "code",
   "execution_count": 69,
   "metadata": {},
   "outputs": [],
   "source": [
    "# Query 1 \n",
    "Query = \"\"\"\n",
    "Select a.retailer_id \n",
    ", cast(a.retailer_signed_up_at as date) as retailer_signed_up_date\n",
    ", extract(year from cast(a.retailer_signed_up_at as timestamp)) as first_signed_up_year \n",
    ", extract(month from cast(a.retailer_signed_up_at as timestamp)) as first_signed_up_month \n",
    ",  date_add(cast(a.retailer_signed_up_at as date), interval if(extract(dayofweek from cast(a.retailer_signed_up_at as datetime))=1, -6 , -extract(dayofweek from cast(a.retailer_signed_up_at as datetime))+2) DAY) as sign_up_week_start_date\n",
    "\n",
    ", extract(year from cast(a.retailer_placed_first_confirmed_order_at as timestamp)) as first_confired_order_year \n",
    ", extract(month from cast(a.retailer_placed_first_confirmed_order_at as timestamp)) as first_confired_order_month \n",
    ",  date_add(cast(a.retailer_placed_first_confirmed_order_at as date), interval if(extract(dayofweek from cast(a.retailer_placed_first_confirmed_order_at as datetime))=1, -6 , -extract(dayofweek from cast(a.retailer_placed_first_confirmed_order_at as datetime))+2) DAY) as confirmation_week_start_date\n",
    "\n",
    ", date_diff( cast(a.retailer_placed_first_confirmed_order_at as date), cast(a.retailer_signed_up_at as date), day) as days_to_first_confirm_order_from_signup \n",
    "from `analytics-projects-dec-2019.Faire.faire_dataset` a\n",
    "where 1=1\n",
    "and extract(year from cast(a.retailer_placed_first_confirmed_order_at as timestamp)) IN ( 2018,2019)\n",
    "group by 1,2,3,4,5,6,7,8,9\n",
    "order by 6,7,8\n",
    "\"\"\"\n",
    "\n"
   ]
  },
  {
   "cell_type": "code",
   "execution_count": 70,
   "metadata": {},
   "outputs": [
    {
     "data": {
      "text/html": [
       "<div>\n",
       "<style scoped>\n",
       "    .dataframe tbody tr th:only-of-type {\n",
       "        vertical-align: middle;\n",
       "    }\n",
       "\n",
       "    .dataframe tbody tr th {\n",
       "        vertical-align: top;\n",
       "    }\n",
       "\n",
       "    .dataframe thead th {\n",
       "        text-align: right;\n",
       "    }\n",
       "</style>\n",
       "<table border=\"1\" class=\"dataframe\">\n",
       "  <thead>\n",
       "    <tr style=\"text-align: right;\">\n",
       "      <th></th>\n",
       "      <th>retailer_id</th>\n",
       "      <th>retailer_signed_up_date</th>\n",
       "      <th>first_signed_up_year</th>\n",
       "      <th>first_signed_up_month</th>\n",
       "      <th>sign_up_week_start_date</th>\n",
       "      <th>first_confired_order_year</th>\n",
       "      <th>first_confired_order_month</th>\n",
       "      <th>confirmation_week_start_date</th>\n",
       "      <th>days_to_first_confirm_order_from_signup</th>\n",
       "    </tr>\n",
       "  </thead>\n",
       "  <tbody>\n",
       "    <tr>\n",
       "      <th>0</th>\n",
       "      <td>34688</td>\n",
       "      <td>2018-04-19</td>\n",
       "      <td>2018</td>\n",
       "      <td>4</td>\n",
       "      <td>2018-04-16</td>\n",
       "      <td>2018</td>\n",
       "      <td>4</td>\n",
       "      <td>2018-04-16</td>\n",
       "      <td>0</td>\n",
       "    </tr>\n",
       "    <tr>\n",
       "      <th>1</th>\n",
       "      <td>36459</td>\n",
       "      <td>2018-04-28</td>\n",
       "      <td>2018</td>\n",
       "      <td>4</td>\n",
       "      <td>2018-04-23</td>\n",
       "      <td>2018</td>\n",
       "      <td>4</td>\n",
       "      <td>2018-04-23</td>\n",
       "      <td>0</td>\n",
       "    </tr>\n",
       "    <tr>\n",
       "      <th>2</th>\n",
       "      <td>36418</td>\n",
       "      <td>2018-04-28</td>\n",
       "      <td>2018</td>\n",
       "      <td>4</td>\n",
       "      <td>2018-04-23</td>\n",
       "      <td>2018</td>\n",
       "      <td>4</td>\n",
       "      <td>2018-04-23</td>\n",
       "      <td>0</td>\n",
       "    </tr>\n",
       "    <tr>\n",
       "      <th>3</th>\n",
       "      <td>36411</td>\n",
       "      <td>2018-04-28</td>\n",
       "      <td>2018</td>\n",
       "      <td>4</td>\n",
       "      <td>2018-04-23</td>\n",
       "      <td>2018</td>\n",
       "      <td>4</td>\n",
       "      <td>2018-04-23</td>\n",
       "      <td>0</td>\n",
       "    </tr>\n",
       "    <tr>\n",
       "      <th>4</th>\n",
       "      <td>36409</td>\n",
       "      <td>2018-04-28</td>\n",
       "      <td>2018</td>\n",
       "      <td>4</td>\n",
       "      <td>2018-04-23</td>\n",
       "      <td>2018</td>\n",
       "      <td>4</td>\n",
       "      <td>2018-04-23</td>\n",
       "      <td>0</td>\n",
       "    </tr>\n",
       "  </tbody>\n",
       "</table>\n",
       "</div>"
      ],
      "text/plain": [
       "   retailer_id retailer_signed_up_date  first_signed_up_year  \\\n",
       "0        34688              2018-04-19                  2018   \n",
       "1        36459              2018-04-28                  2018   \n",
       "2        36418              2018-04-28                  2018   \n",
       "3        36411              2018-04-28                  2018   \n",
       "4        36409              2018-04-28                  2018   \n",
       "\n",
       "   first_signed_up_month sign_up_week_start_date  first_confired_order_year  \\\n",
       "0                      4              2018-04-16                       2018   \n",
       "1                      4              2018-04-23                       2018   \n",
       "2                      4              2018-04-23                       2018   \n",
       "3                      4              2018-04-23                       2018   \n",
       "4                      4              2018-04-23                       2018   \n",
       "\n",
       "   first_confired_order_month confirmation_week_start_date  \\\n",
       "0                           4                   2018-04-16   \n",
       "1                           4                   2018-04-23   \n",
       "2                           4                   2018-04-23   \n",
       "3                           4                   2018-04-23   \n",
       "4                           4                   2018-04-23   \n",
       "\n",
       "   days_to_first_confirm_order_from_signup  \n",
       "0                                        0  \n",
       "1                                        0  \n",
       "2                                        0  \n",
       "3                                        0  \n",
       "4                                        0  "
      ]
     },
     "execution_count": 70,
     "metadata": {},
     "output_type": "execute_result"
    }
   ],
   "source": [
    "query_job = bigquery_client.query(Query)\n",
    "df = query_job.to_dataframe()\n",
    "df.head()"
   ]
  },
  {
   "cell_type": "code",
   "execution_count": 71,
   "metadata": {},
   "outputs": [
    {
     "name": "stdout",
     "output_type": "stream",
     "text": [
      "The sheet is updated successfully\n"
     ]
    }
   ],
   "source": [
    "# Setting the sheet name and the start cell where the upload data begins \n",
    "wks_name = 'Retailer'\n",
    "#cell_of_start_df = 'A2'\n",
    "# uploading the dataframe to sheets\n",
    "d2g.upload(df,\n",
    "           spreadsheet_key,\n",
    "           wks_name,\n",
    "           credentials=credentials,\n",
    "           col_names=True,\n",
    "           row_names=False,\n",
    "           #start_cell = cell_of_start_df,\n",
    "           clean=False)\n",
    "print ('The sheet is updated successfully')"
   ]
  },
  {
   "cell_type": "code",
   "execution_count": 74,
   "metadata": {},
   "outputs": [
    {
     "data": {
      "text/html": [
       "<div>\n",
       "<style scoped>\n",
       "    .dataframe tbody tr th:only-of-type {\n",
       "        vertical-align: middle;\n",
       "    }\n",
       "\n",
       "    .dataframe tbody tr th {\n",
       "        vertical-align: top;\n",
       "    }\n",
       "\n",
       "    .dataframe thead th {\n",
       "        text-align: right;\n",
       "    }\n",
       "</style>\n",
       "<table border=\"1\" class=\"dataframe\">\n",
       "  <thead>\n",
       "    <tr style=\"text-align: right;\">\n",
       "      <th></th>\n",
       "      <th>week_start_date</th>\n",
       "      <th>email_clicks</th>\n",
       "      <th>non_email_clicks</th>\n",
       "      <th>total_clicks</th>\n",
       "    </tr>\n",
       "  </thead>\n",
       "  <tbody>\n",
       "    <tr>\n",
       "      <th>0</th>\n",
       "      <td>2018-04-09</td>\n",
       "      <td>0</td>\n",
       "      <td>1</td>\n",
       "      <td>1</td>\n",
       "    </tr>\n",
       "    <tr>\n",
       "      <th>1</th>\n",
       "      <td>2018-04-16</td>\n",
       "      <td>0</td>\n",
       "      <td>80</td>\n",
       "      <td>80</td>\n",
       "    </tr>\n",
       "    <tr>\n",
       "      <th>2</th>\n",
       "      <td>2018-04-23</td>\n",
       "      <td>0</td>\n",
       "      <td>139</td>\n",
       "      <td>139</td>\n",
       "    </tr>\n",
       "    <tr>\n",
       "      <th>3</th>\n",
       "      <td>2018-04-30</td>\n",
       "      <td>0</td>\n",
       "      <td>40</td>\n",
       "      <td>40</td>\n",
       "    </tr>\n",
       "    <tr>\n",
       "      <th>4</th>\n",
       "      <td>2018-05-07</td>\n",
       "      <td>0</td>\n",
       "      <td>16</td>\n",
       "      <td>16</td>\n",
       "    </tr>\n",
       "  </tbody>\n",
       "</table>\n",
       "</div>"
      ],
      "text/plain": [
       "  week_start_date  email_clicks  non_email_clicks  total_clicks\n",
       "0      2018-04-09             0                 1             1\n",
       "1      2018-04-16             0                80            80\n",
       "2      2018-04-23             0               139           139\n",
       "3      2018-04-30             0                40            40\n",
       "4      2018-05-07             0                16            16"
      ]
     },
     "execution_count": 74,
     "metadata": {},
     "output_type": "execute_result"
    }
   ],
   "source": [
    "# Query 2 \n",
    "Query = \"\"\"\n",
    "with clicks as (Select a.brand_id \n",
    ", extract(year from cast(a.brand_relationship_created_at as timestamp)) as first_signed_up_year \n",
    ", extract(month from cast(a.brand_relationship_created_at as timestamp)) as first_signed_up_month \n",
    ",  date_add(cast(a.brand_relationship_created_at as date), interval if(extract(dayofweek from cast(a.brand_relationship_created_at as datetime))=1, -6 , -extract(dayofweek from cast(a.brand_relationship_created_at as datetime))+2) DAY) as week_start_date\n",
    ", if(outgoing_email_id is not null, \"Email link\" , \"Not Email link\") as Retailer_Link\n",
    "from `analytics-projects-dec-2019.Faire.faire_dataset` a\n",
    "where 1=1\n",
    "and a.retailer_id is null\n",
    "and extract(year from cast(a.brand_relationship_created_at as timestamp)) IN ( 2018,2019)\n",
    "order by 2,3,4)\n",
    "\n",
    "select week_start_date\n",
    ", count(Case when Retailer_Link = \"Email link\" Then brand_id end) as email_clicks\n",
    ", count(Case when Retailer_Link = \"Not Email link\" Then brand_id end) as non_email_clicks\n",
    ", count(brand_id) as total_clicks\n",
    "from clicks\n",
    "group by 1\n",
    "order by 1\n",
    "\"\"\"\n",
    "\n",
    "query_job = bigquery_client.query(Query)\n",
    "df = query_job.to_dataframe()\n",
    "df.head()"
   ]
  },
  {
   "cell_type": "code",
   "execution_count": 75,
   "metadata": {},
   "outputs": [
    {
     "name": "stdout",
     "output_type": "stream",
     "text": [
      "The sheet is updated successfully\n"
     ]
    }
   ],
   "source": [
    "# Setting the sheet name and the start cell where the upload data begins \n",
    "wks_name = 'Clicks'\n",
    "# uploading the dataframe to sheets\n",
    "d2g.upload(df,\n",
    "           spreadsheet_key,\n",
    "           wks_name,\n",
    "           credentials=credentials,\n",
    "           col_names=True,\n",
    "           row_names=False,\n",
    "           clean=False)\n",
    "print ('The sheet is updated successfully')"
   ]
  },
  {
   "cell_type": "code",
   "execution_count": 78,
   "metadata": {},
   "outputs": [
    {
     "data": {
      "text/html": [
       "<div>\n",
       "<style scoped>\n",
       "    .dataframe tbody tr th:only-of-type {\n",
       "        vertical-align: middle;\n",
       "    }\n",
       "\n",
       "    .dataframe tbody tr th {\n",
       "        vertical-align: top;\n",
       "    }\n",
       "\n",
       "    .dataframe thead th {\n",
       "        text-align: right;\n",
       "    }\n",
       "</style>\n",
       "<table border=\"1\" class=\"dataframe\">\n",
       "  <thead>\n",
       "    <tr style=\"text-align: right;\">\n",
       "      <th></th>\n",
       "      <th>week_start_date</th>\n",
       "      <th>unique_control_brands</th>\n",
       "      <th>unique_enterprise_brands</th>\n",
       "      <th>unique_maker_brands</th>\n",
       "      <th>unique_small_brands</th>\n",
       "      <th>unique_brands</th>\n",
       "    </tr>\n",
       "  </thead>\n",
       "  <tbody>\n",
       "    <tr>\n",
       "      <th>0</th>\n",
       "      <td>2018-06-11</td>\n",
       "      <td>1</td>\n",
       "      <td>0</td>\n",
       "      <td>2</td>\n",
       "      <td>0</td>\n",
       "      <td>3</td>\n",
       "    </tr>\n",
       "    <tr>\n",
       "      <th>1</th>\n",
       "      <td>2018-06-18</td>\n",
       "      <td>1</td>\n",
       "      <td>0</td>\n",
       "      <td>4</td>\n",
       "      <td>1</td>\n",
       "      <td>6</td>\n",
       "    </tr>\n",
       "    <tr>\n",
       "      <th>2</th>\n",
       "      <td>2018-06-25</td>\n",
       "      <td>1</td>\n",
       "      <td>1</td>\n",
       "      <td>5</td>\n",
       "      <td>4</td>\n",
       "      <td>11</td>\n",
       "    </tr>\n",
       "    <tr>\n",
       "      <th>3</th>\n",
       "      <td>2018-07-02</td>\n",
       "      <td>1</td>\n",
       "      <td>1</td>\n",
       "      <td>5</td>\n",
       "      <td>1</td>\n",
       "      <td>8</td>\n",
       "    </tr>\n",
       "    <tr>\n",
       "      <th>4</th>\n",
       "      <td>2018-07-09</td>\n",
       "      <td>0</td>\n",
       "      <td>1</td>\n",
       "      <td>16</td>\n",
       "      <td>3</td>\n",
       "      <td>20</td>\n",
       "    </tr>\n",
       "  </tbody>\n",
       "</table>\n",
       "</div>"
      ],
      "text/plain": [
       "  week_start_date  unique_control_brands  unique_enterprise_brands  \\\n",
       "0      2018-06-11                      1                         0   \n",
       "1      2018-06-18                      1                         0   \n",
       "2      2018-06-25                      1                         1   \n",
       "3      2018-07-02                      1                         1   \n",
       "4      2018-07-09                      0                         1   \n",
       "\n",
       "   unique_maker_brands  unique_small_brands  unique_brands  \n",
       "0                    2                    0              3  \n",
       "1                    4                    1              6  \n",
       "2                    5                    4             11  \n",
       "3                    5                    1              8  \n",
       "4                   16                    3             20  "
      ]
     },
     "execution_count": 78,
     "metadata": {},
     "output_type": "execute_result"
    }
   ],
   "source": [
    "# Query 3 \n",
    "Query = \"\"\"\n",
    "with brands_email as (Select a.brand_id \n",
    ", a.account_owner\n",
    ", extract(year from cast(a.email_sent_at as timestamp)) as email_sent_at_year \n",
    ", extract(month from cast(a.email_sent_at as timestamp)) as email_sent_at_month \n",
    ",  date_add(cast(a.email_sent_at as date), interval if(extract(dayofweek from cast(a.email_sent_at as datetime))=1, -6 , -extract(dayofweek from cast(a.email_sent_at as datetime))+2) DAY) as week_start_date\n",
    "\n",
    "from `analytics-projects-dec-2019.Faire.faire_dataset` a\n",
    "where 1=1\n",
    "and extract(year from cast(a.email_sent_at as timestamp)) IN ( 2018,2019)\n",
    "order by 2,3,4)\n",
    "\n",
    "select week_start_date\n",
    ", count(distinct(case when account_owner = \"Control\" then brand_id end )) as unique_control_brands\n",
    ", count(distinct(case when account_owner = \"Enterprise Maker\" then  brand_id end )) as unique_enterprise_brands\n",
    ", count(distinct(case when account_owner = \"Maker Success\" then  brand_id end )) as unique_maker_brands\n",
    ", count(distinct(case when account_owner = \"Small maker or other\" then  brand_id end )) as unique_small_brands\n",
    ", count(distinct(brand_id)) as unique_brands\n",
    "from brands_email\n",
    "group by 1\n",
    "order by 1\n",
    "\"\"\"\n",
    "\n",
    "query_job = bigquery_client.query(Query)\n",
    "df = query_job.to_dataframe()\n",
    "df.head()"
   ]
  },
  {
   "cell_type": "code",
   "execution_count": 79,
   "metadata": {},
   "outputs": [
    {
     "name": "stdout",
     "output_type": "stream",
     "text": [
      "The sheet is updated successfully\n"
     ]
    }
   ],
   "source": [
    "# Setting the sheet name and the start cell where the upload data begins \n",
    "wks_name = 'Brands'\n",
    "# uploading the dataframe to sheets\n",
    "d2g.upload(df,\n",
    "           spreadsheet_key,\n",
    "           wks_name,\n",
    "           credentials=credentials,\n",
    "           col_names=True,\n",
    "           row_names=False,\n",
    "           clean=False)\n",
    "print ('The sheet is updated successfully')"
   ]
  },
  {
   "cell_type": "code",
   "execution_count": 67,
   "metadata": {},
   "outputs": [
    {
     "data": {
      "text/html": [
       "<div>\n",
       "<style scoped>\n",
       "    .dataframe tbody tr th:only-of-type {\n",
       "        vertical-align: middle;\n",
       "    }\n",
       "\n",
       "    .dataframe tbody tr th {\n",
       "        vertical-align: top;\n",
       "    }\n",
       "\n",
       "    .dataframe thead th {\n",
       "        text-align: right;\n",
       "    }\n",
       "</style>\n",
       "<table border=\"1\" class=\"dataframe\">\n",
       "  <thead>\n",
       "    <tr style=\"text-align: right;\">\n",
       "      <th></th>\n",
       "      <th>week_start_date</th>\n",
       "      <th>account_owner</th>\n",
       "      <th>unique_brnads</th>\n",
       "    </tr>\n",
       "  </thead>\n",
       "  <tbody>\n",
       "    <tr>\n",
       "      <th>0</th>\n",
       "      <td>2018-04-16</td>\n",
       "      <td>Control</td>\n",
       "      <td>1</td>\n",
       "    </tr>\n",
       "    <tr>\n",
       "      <th>1</th>\n",
       "      <td>2018-04-16</td>\n",
       "      <td>Small maker or other</td>\n",
       "      <td>1</td>\n",
       "    </tr>\n",
       "    <tr>\n",
       "      <th>2</th>\n",
       "      <td>2018-04-23</td>\n",
       "      <td>Maker Success</td>\n",
       "      <td>1</td>\n",
       "    </tr>\n",
       "    <tr>\n",
       "      <th>3</th>\n",
       "      <td>2018-05-14</td>\n",
       "      <td>Maker Success</td>\n",
       "      <td>1</td>\n",
       "    </tr>\n",
       "    <tr>\n",
       "      <th>4</th>\n",
       "      <td>2018-05-14</td>\n",
       "      <td>Small maker or other</td>\n",
       "      <td>1</td>\n",
       "    </tr>\n",
       "  </tbody>\n",
       "</table>\n",
       "</div>"
      ],
      "text/plain": [
       "  week_start_date         account_owner  unique_brnads\n",
       "0      2018-04-16               Control              1\n",
       "1      2018-04-16  Small maker or other              1\n",
       "2      2018-04-23         Maker Success              1\n",
       "3      2018-05-14         Maker Success              1\n",
       "4      2018-05-14  Small maker or other              1"
      ]
     },
     "execution_count": 67,
     "metadata": {},
     "output_type": "execute_result"
    }
   ],
   "source": [
    "# Query 4 \n",
    "Query = \"\"\"\n",
    "with brands_adoption as (Select a.brand_id \n",
    ", a.account_owner\n",
    ", extract(year from cast(a.brand_adopted_elevate_at as timestamp)) as adopted_elevate_at_year \n",
    ", extract(month from cast(a.brand_adopted_elevate_at as timestamp)) as adopted_elevate_at_month \n",
    ",  date_add(cast(a.brand_adopted_elevate_at as date), interval if(extract(dayofweek from cast(a.brand_adopted_elevate_at as datetime))=1, -6 , -extract(dayofweek from cast(a.brand_adopted_elevate_at as datetime))+2) DAY) as week_start_date\n",
    "\n",
    "from `analytics-projects-dec-2019.Faire.faire_dataset` a\n",
    "where 1=1\n",
    "and extract(year from cast(a.brand_adopted_elevate_at as timestamp)) IN ( 2018,2019)\n",
    "group by 1,2,3,4,5\n",
    "order by 3,4,5)\n",
    "\n",
    "select week_start_date\n",
    ", account_owner\n",
    ", count(distinct brand_id ) as unique_brnads\n",
    "from brands_adoption\n",
    "group by 1,2\n",
    "order by 1,2\n",
    "\"\"\"\n",
    "\n",
    "query_job = bigquery_client.query(Query)\n",
    "df = query_job.to_dataframe()\n",
    "df.head()"
   ]
  },
  {
   "cell_type": "code",
   "execution_count": 68,
   "metadata": {},
   "outputs": [
    {
     "name": "stdout",
     "output_type": "stream",
     "text": [
      "The sheet is updated successfully\n"
     ]
    }
   ],
   "source": [
    "# Setting the sheet name and the start cell where the upload data begins \n",
    "wks_name = 'Elevate'\n",
    "# uploading the dataframe to sheets\n",
    "d2g.upload(df,\n",
    "           spreadsheet_key,\n",
    "           wks_name,\n",
    "           credentials=credentials,\n",
    "           col_names=True,\n",
    "           row_names=False,\n",
    "           clean=False)\n",
    "print ('The sheet is updated successfully')"
   ]
  },
  {
   "cell_type": "code",
   "execution_count": null,
   "metadata": {},
   "outputs": [],
   "source": [
    "## The End"
   ]
  }
 ],
 "metadata": {
  "kernelspec": {
   "display_name": "Python 3",
   "language": "python",
   "name": "python3"
  },
  "language_info": {
   "codemirror_mode": {
    "name": "ipython",
    "version": 3
   },
   "file_extension": ".py",
   "mimetype": "text/x-python",
   "name": "python",
   "nbconvert_exporter": "python",
   "pygments_lexer": "ipython3",
   "version": "3.8.0"
  }
 },
 "nbformat": 4,
 "nbformat_minor": 2
}
